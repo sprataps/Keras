{
 "cells": [
  {
   "cell_type": "code",
   "execution_count": 68,
   "metadata": {},
   "outputs": [],
   "source": [
    "from keras.datasets import mnist"
   ]
  },
  {
   "cell_type": "code",
   "execution_count": 69,
   "metadata": {},
   "outputs": [],
   "source": [
    "#ge tthe train and test images\n",
    "(X_train,y_train),(X_test,y_test) =mnist.load_data()\n"
   ]
  },
  {
   "cell_type": "code",
   "execution_count": 70,
   "metadata": {},
   "outputs": [],
   "source": [
    "import matplotlib.pyplot as plt\n",
    "%matplotlib inline\n",
    "import matplotlib.cm as cm\n",
    "import numpy as np"
   ]
  },
  {
   "cell_type": "code",
   "execution_count": 71,
   "metadata": {},
   "outputs": [
    {
     "data": {
      "image/png": "[encoded data removed]",
      "text/plain": [
       "<matplotlib.figure.Figure at 0x140028b1be0>"
      ]
     },
     "metadata": {},
     "output_type": "display_data"
    }
   ],
   "source": [
    "fig=plt.figure(figsize=(20,20))\n",
    "for i in range(6):\n",
    "    ax=fig.add_subplot(1,6,i+1,xticks=[],yticks=[])\n",
    "    #show the images from x_train \n",
    "    ax.imshow(X_train[i],cmap='gray')\n",
    "    #print the title as the label of the image\n",
    "    ax.set_title(str(y_train[i]))"
   ]
  },
  {
   "cell_type": "code",
   "execution_count": 72,
   "metadata": {},
   "outputs": [],
   "source": [
    "#rescale images from 0-255 to 0-1\n",
    "X_train=X_train.astype('float32')/255\n",
    "X_test=X_test.astype('float32')/255"
   ]
  },
  {
   "cell_type": "code",
   "execution_count": 73,
   "metadata": {},
   "outputs": [
    {
     "name": "stdout",
     "output_type": "stream",
     "text": [
      "Integer values labels\n",
      "[5 0 4 1 9 2 1 3 1 4]\n"
     ]
    }
   ],
   "source": [
    "from keras.utils import np_utils\n",
    "print('Integer values labels')\n",
    "print(y_train[:10])"
   ]
  },
  {
   "cell_type": "code",
   "execution_count": 74,
   "metadata": {},
   "outputs": [],
   "source": [
    "#one hot encode these labels\n",
    "y_train=np_utils.to_categorical(y_train,10)\n",
    "y_test=np_utils.to_categorical(y_test,10)"
   ]
  },
  {
   "cell_type": "code",
   "execution_count": 75,
   "metadata": {},
   "outputs": [
    {
     "name": "stdout",
     "output_type": "stream",
     "text": [
      "One hot labels:  [[ 0.  0.  0.  0.  0.  1.  0.  0.  0.  0.]\n",
      " [ 1.  0.  0.  0.  0.  0.  0.  0.  0.  0.]\n",
      " [ 0.  0.  0.  0.  1.  0.  0.  0.  0.  0.]\n",
      " [ 0.  1.  0.  0.  0.  0.  0.  0.  0.  0.]\n",
      " [ 0.  0.  0.  0.  0.  0.  0.  0.  0.  1.]\n",
      " [ 0.  0.  1.  0.  0.  0.  0.  0.  0.  0.]\n",
      " [ 0.  1.  0.  0.  0.  0.  0.  0.  0.  0.]\n",
      " [ 0.  0.  0.  1.  0.  0.  0.  0.  0.  0.]\n",
      " [ 0.  1.  0.  0.  0.  0.  0.  0.  0.  0.]\n",
      " [ 0.  0.  0.  0.  1.  0.  0.  0.  0.  0.]]\n"
     ]
    }
   ],
   "source": [
    "print('One hot labels: ',y_train[:10])"
   ]
  },
  {
   "cell_type": "code",
   "execution_count": 76,
   "metadata": {
    "collapsed": true
   },
   "outputs": [],
   "source": [
    "from keras.models import Sequential\n",
    "from keras.layers import Dense,Flatten"
   ]
  },
  {
   "cell_type": "code",
   "execution_count": 77,
   "metadata": {},
   "outputs": [],
   "source": [
    "from keras.layers.core import Dropout\n",
    "model=Sequential()\n",
    "model.add(Flatten(input_shape=X_train.shape[1:]))\n",
    "model.add(Dense(512,activation='relu'))\n",
    "model.add(Dropout(0.2))\n",
    "model.add(Dense(512,activation='relu'))\n",
    "model.add(Dropout(0.2))\n",
    "model.add(Dense(10,activation='softmax'))"
   ]
  },
  {
   "cell_type": "markdown",
   "metadata": {},
   "source": [
    "model.summary()\n"
   ]
  },
  {
   "cell_type": "code",
   "execution_count": 78,
   "metadata": {},
   "outputs": [],
   "source": [
    "model.compile(loss='categorical_crossentropy',optimizer='rmsprop',metrics=['accuracy'])"
   ]
  },
  {
   "cell_type": "code",
   "execution_count": 79,
   "metadata": {
    "collapsed": true
   },
   "outputs": [],
   "source": [
    "from keras.callbacks import ModelCheckpoint\n",
    "checkpointer=ModelCheckpoint(filepath='mnist.model.best.hdf5',verbose=1,save_best_only=True)"
   ]
  },
  {
   "cell_type": "code",
   "execution_count": 80,
   "metadata": {},
   "outputs": [
    {
     "name": "stdout",
     "output_type": "stream",
     "text": [
      "Train on 48000 samples, validate on 12000 samples\n",
      "Epoch 1/10\n",
      "47872/48000 [============================>.] - ETA: 0s - loss: 0.2742 - acc: 0.9155Epoch 00000: val_loss improved from inf to 0.12137, saving model to mnist.model.best.hdf5\n",
      "48000/48000 [==============================] - 8s - loss: 0.2739 - acc: 0.9156 - val_loss: 0.1214 - val_acc: 0.9635\n",
      "Epoch 2/10\n",
      "47872/48000 [============================>.] - ETA: 0s - loss: 0.1104 - acc: 0.9665Epoch 00001: val_loss improved from 0.12137 to 0.09434, saving model to mnist.model.best.hdf5\n",
      "48000/48000 [==============================] - 8s - loss: 0.1104 - acc: 0.9665 - val_loss: 0.0943 - val_acc: 0.9710\n",
      "Epoch 3/10\n",
      "47616/48000 [============================>.] - ETA: 0s - loss: 0.0809 - acc: 0.9755Epoch 00002: val_loss improved from 0.09434 to 0.08525, saving model to mnist.model.best.hdf5\n",
      "48000/48000 [==============================] - 8s - loss: 0.0809 - acc: 0.9754 - val_loss: 0.0852 - val_acc: 0.9763\n",
      "Epoch 4/10\n",
      "47744/48000 [============================>.] - ETA: 0s - loss: 0.0633 - acc: 0.9807Epoch 00003: val_loss did not improve\n",
      "48000/48000 [==============================] - 9s - loss: 0.0631 - acc: 0.9807 - val_loss: 0.1002 - val_acc: 0.9748\n",
      "Epoch 5/10\n",
      "47872/48000 [============================>.] - ETA: 0s - loss: 0.0509 - acc: 0.9850Epoch 00004: val_loss did not improve\n",
      "48000/48000 [==============================] - 9s - loss: 0.0509 - acc: 0.9850 - val_loss: 0.1030 - val_acc: 0.9752\n",
      "Epoch 6/10\n",
      "47616/48000 [============================>.] - ETA: 0s - loss: 0.0459 - acc: 0.9863Epoch 00005: val_loss did not improve\n",
      "48000/48000 [==============================] - 9s - loss: 0.0458 - acc: 0.9863 - val_loss: 0.0941 - val_acc: 0.9769\n",
      "Epoch 7/10\n",
      "47872/48000 [============================>.] - ETA: 0s - loss: 0.0397 - acc: 0.9882Epoch 00006: val_loss did not improve\n",
      "48000/48000 [==============================] - 9s - loss: 0.0397 - acc: 0.9882 - val_loss: 0.1072 - val_acc: 0.9772\n",
      "Epoch 8/10\n",
      "47744/48000 [============================>.] - ETA: 0s - loss: 0.0326 - acc: 0.9899Epoch 00007: val_loss did not improve\n",
      "48000/48000 [==============================] - 11s - loss: 0.0324 - acc: 0.9899 - val_loss: 0.0943 - val_acc: 0.9796\n",
      "Epoch 9/10\n",
      "47616/48000 [============================>.] - ETA: 0s - loss: 0.0298 - acc: 0.9909Epoch 00008: val_loss did not improve\n",
      "48000/48000 [==============================] - 10s - loss: 0.0298 - acc: 0.9909 - val_loss: 0.1007 - val_acc: 0.9791\n",
      "Epoch 10/10\n",
      "47872/48000 [============================>.] - ETA: 0s - loss: 0.0280 - acc: 0.9916Epoch 00009: val_loss did not improve\n",
      "48000/48000 [==============================] - 10s - loss: 0.0280 - acc: 0.9916 - val_loss: 0.1087 - val_acc: 0.9793\n"
     ]
    }
   ],
   "source": [
    "#check the model validation scores on 10 epochs and record the value of the weights at the epochs where the validation error is least\n",
    "hist=model.fit(X_train,y_train,batch_size=128,epochs=10,validation_split=0.2,callbacks =[checkpointer],verbose=1,shuffle=True)"
   ]
  },
  {
   "cell_type": "code",
   "execution_count": 81,
   "metadata": {},
   "outputs": [],
   "source": [
    "#set the model weights to the best epoch weight that we got from the previous compile call\n",
    "model.load_weights('mnist.model.best.hdf5')\n"
   ]
  },
  {
   "cell_type": "code",
   "execution_count": 82,
   "metadata": {},
   "outputs": [
    {
     "name": "stdout",
     "output_type": "stream",
     "text": [
      "Test Accuracy: 97.7900%\n"
     ]
    }
   ],
   "source": [
    "score=model.evaluate(X_test,y_test,verbose=0)\n",
    "\n",
    "acc=100*score[1]\n",
    "print(\"Test Accuracy: %.4f%%\" %acc)"
   ]
  },
  {
   "cell_type": "code",
   "execution_count": null,
   "metadata": {
    "collapsed": true
   },
   "outputs": [],
   "source": []
  }
 ],
 "metadata": {
  "kernelspec": {
   "display_name": "Python 3",
   "language": "python",
   "name": "python3"
  },
  "language_info": {
   "codemirror_mode": {
    "name": "ipython",
    "version": 3
   },
   "file_extension": ".py",
   "mimetype": "text/x-python",
   "name": "python",
   "nbconvert_exporter": "python",
   "pygments_lexer": "ipython3",
   "version": "3.6.2"
  }
 },
 "nbformat": 4,
 "nbformat_minor": 2
}
